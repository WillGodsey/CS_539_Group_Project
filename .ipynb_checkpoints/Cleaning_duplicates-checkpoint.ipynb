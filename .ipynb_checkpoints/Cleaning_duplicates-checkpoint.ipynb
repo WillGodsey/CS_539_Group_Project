{
 "cells": [
  {
   "cell_type": "code",
   "execution_count": 36,
   "id": "f435cece-57c3-4bae-a56f-7a4dac98fcb7",
   "metadata": {
    "tags": []
   },
   "outputs": [],
   "source": [
    "import pandas as pd\n",
    "import numpy as np\n",
    "from sklearn.neighbors import BallTree\n",
    "df_reviews = pd.read_csv('assets/McDonald_s_Reviews.csv', encoding='ISO-8859-1')\n",
    "df = pd.read_csv('assets/lat_lon.csv')"
   ]
  },
  {
   "cell_type": "code",
   "execution_count": 29,
   "id": "ae82246e-f00f-488c-bab5-e8f14b613dd6",
   "metadata": {
    "tags": []
   },
   "outputs": [],
   "source": [
    "df['latitude'] = df['latitude'].astype(float)\n",
    "df['longitude'] = df['longitude'].astype(float)\n",
    "df_reviews['latitude'] = df_reviews['latitude'].astype(float)\n",
    "df_reviews['longitude'] = df_reviews['longitude'].astype(float)"
   ]
  },
  {
   "cell_type": "code",
   "execution_count": 30,
   "id": "4e95e0b6-2029-4596-8c54-61f98ee9e913",
   "metadata": {
    "tags": []
   },
   "outputs": [],
   "source": [
    "set_lat_lon = set(df.apply(tuple, axis=1))\n",
    "set_reviews = set(df_reviews[['latitude', 'longitude']].apply(tuple, axis=1))"
   ]
  },
  {
   "cell_type": "code",
   "execution_count": 31,
   "id": "34f41afc-257f-41d8-8aa5-998e2f4cf49f",
   "metadata": {
    "tags": []
   },
   "outputs": [],
   "source": [
    "diff_set = set_lat_lon - set_reviews"
   ]
  },
  {
   "cell_type": "code",
   "execution_count": 32,
   "id": "f4112da8-5a6d-472c-aa65-16501cf4119e",
   "metadata": {
    "tags": []
   },
   "outputs": [],
   "source": [
    "df_diff = pd.DataFrame(list(diff_set), columns=['latitude', 'longitude'])"
   ]
  },
  {
   "cell_type": "code",
   "execution_count": 37,
   "id": "a489ff22-f133-4658-a2b2-8be607e603c3",
   "metadata": {
    "tags": []
   },
   "outputs": [],
   "source": [
    "df_reviews_cleaned = df_reviews.dropna(subset=['latitude', 'longitude'])"
   ]
  },
  {
   "cell_type": "code",
   "execution_count": 38,
   "id": "d42c949f-1e56-443e-810e-6e33924bdc4e",
   "metadata": {
    "tags": []
   },
   "outputs": [],
   "source": [
    "df_diff_radians = np.radians(df_diff.values)\n",
    "df_reviews_radians = np.radians(df_reviews_cleaned[['latitude', 'longitude']].values)"
   ]
  },
  {
   "cell_type": "code",
   "execution_count": 39,
   "id": "75410514-f0b9-4107-a075-b7c8bacbc677",
   "metadata": {
    "tags": []
   },
   "outputs": [],
   "source": [
    "tree = BallTree(df_reviews_radians)"
   ]
  },
  {
   "cell_type": "code",
   "execution_count": 40,
   "id": "f3f9c21b-c6a0-49ce-822d-2b0d89bebe92",
   "metadata": {
    "tags": []
   },
   "outputs": [],
   "source": [
    "distances, indices = tree.query_radius(df_diff_radians, r=np.radians(0.01), return_distance=True)"
   ]
  },
  {
   "cell_type": "code",
   "execution_count": 41,
   "id": "5877b45e-3cdc-41bc-ae62-b063833f3972",
   "metadata": {
    "tags": []
   },
   "outputs": [],
   "source": [
    "non_nearby_indices = [i for i, dist in enumerate(distances) if len(dist) == 0]\n"
   ]
  },
  {
   "cell_type": "code",
   "execution_count": 42,
   "id": "da610191-5b09-40e2-9112-595d56384b85",
   "metadata": {
    "tags": []
   },
   "outputs": [],
   "source": [
    "df_final = df_diff.iloc[non_nearby_indices]"
   ]
  },
  {
   "cell_type": "code",
   "execution_count": 46,
   "id": "f3531da4-ab23-4846-8857-4ada2c085164",
   "metadata": {
    "tags": []
   },
   "outputs": [
    {
     "name": "stdout",
     "output_type": "stream",
     "text": [
      "(14092, 2)\n",
      "    latitude  longitude\n",
      "0  39.045990 -84.244992\n",
      "1  42.298737 -84.023994\n",
      "2  46.851607 -96.862735\n",
      "3  36.579128 -82.567509\n",
      "4  42.379974 -88.064791\n"
     ]
    }
   ],
   "source": [
    "print(df_final.shape)\n",
    "print(df_final.head())"
   ]
  },
  {
   "cell_type": "code",
   "execution_count": 44,
   "id": "6599d01e-fefc-4e45-b677-781aeb8fa62f",
   "metadata": {
    "tags": []
   },
   "outputs": [],
   "source": [
    "df_final.to_csv('assets/final_unique_locations.csv', index=False)"
   ]
  },
  {
   "cell_type": "code",
   "execution_count": 45,
   "id": "7b95dd2d-4c8e-4d21-ab44-8df72c1a20ac",
   "metadata": {
    "tags": []
   },
   "outputs": [],
   "source": [
    "df_reviews_cleaned.to_csv('assets/cleaned_reviews.csv', index=False)"
   ]
  }
 ],
 "metadata": {
  "kernelspec": {
   "display_name": "Python 3 (ipykernel)",
   "language": "python",
   "name": "python3"
  },
  "language_info": {
   "codemirror_mode": {
    "name": "ipython",
    "version": 3
   },
   "file_extension": ".py",
   "mimetype": "text/x-python",
   "name": "python",
   "nbconvert_exporter": "python",
   "pygments_lexer": "ipython3",
   "version": "3.11.4"
  }
 },
 "nbformat": 4,
 "nbformat_minor": 5
}
